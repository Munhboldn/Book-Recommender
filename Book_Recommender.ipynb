{
 "cells": [
  {
   "cell_type": "code",
   "execution_count": 16,
   "id": "d5c2bb00-f43f-4f39-9373-a7ac85355c26",
   "metadata": {},
   "outputs": [
    {
     "data": {
      "text/html": [
       "\n",
       "<style>\n",
       "    /* Turns off some styling */\n",
       "    progress {\n",
       "        /* gets rid of default border in Firefox and Opera. */\n",
       "        border: none;\n",
       "        /* Needs to be in here for Safari polyfill so background images work as expected. */\n",
       "        background-size: auto;\n",
       "    }\n",
       "    progress:not([value]), progress:not([value])::-webkit-progress-bar {\n",
       "        background: repeating-linear-gradient(45deg, #7e7e7e, #7e7e7e 10px, #5c5c5c 10px, #5c5c5c 20px);\n",
       "    }\n",
       "    .progress-bar-interrupted, .progress-bar-interrupted::-webkit-progress-bar {\n",
       "        background: #F44336;\n",
       "    }\n",
       "</style>\n"
      ],
      "text/plain": [
       "<IPython.core.display.HTML object>"
      ]
     },
     "metadata": {},
     "output_type": "display_data"
    },
    {
     "data": {
      "text/html": [],
      "text/plain": [
       "<IPython.core.display.HTML object>"
      ]
     },
     "metadata": {},
     "output_type": "display_data"
    },
    {
     "name": "stderr",
     "output_type": "stream",
     "text": [
      "\\\\?\\C:\\Users\\User\\AppData\\Roaming\\jupyterlab-desktop\\jlab_server\\Lib\\site-packages\\fastai\\learner.py:53: FutureWarning: You are using `torch.load` with `weights_only=False` (the current default value), which uses the default pickle module implicitly. It is possible to construct malicious pickle data which will execute arbitrary code during unpickling (See https://github.com/pytorch/pytorch/blob/main/SECURITY.md#untrusted-models for more details). In a future release, the default value for `weights_only` will be flipped to `True`. This limits the functions that could be executed during unpickling. Arbitrary objects will no longer be allowed to be loaded via this mode unless they are explicitly allowlisted by the user via `torch.serialization.add_safe_globals`. We recommend you start setting `weights_only=True` for any use case where you don't have full control of the loaded file. Please open an issue on GitHub for any issues related to this experimental feature.\n",
      "  state = torch.load(file, map_location=device, **torch_load_kwargs)\n"
     ]
    },
    {
     "data": {
      "text/html": [
       "\n",
       "<style>\n",
       "    /* Turns off some styling */\n",
       "    progress {\n",
       "        /* gets rid of default border in Firefox and Opera. */\n",
       "        border: none;\n",
       "        /* Needs to be in here for Safari polyfill so background images work as expected. */\n",
       "        background-size: auto;\n",
       "    }\n",
       "    progress:not([value]), progress:not([value])::-webkit-progress-bar {\n",
       "        background: repeating-linear-gradient(45deg, #7e7e7e, #7e7e7e 10px, #5c5c5c 10px, #5c5c5c 20px);\n",
       "    }\n",
       "    .progress-bar-interrupted, .progress-bar-interrupted::-webkit-progress-bar {\n",
       "        background: #F44336;\n",
       "    }\n",
       "</style>\n"
      ],
      "text/plain": [
       "<IPython.core.display.HTML object>"
      ]
     },
     "metadata": {},
     "output_type": "display_data"
    },
    {
     "data": {
      "text/html": [
       "<table border=\"1\" class=\"dataframe\">\n",
       "  <thead>\n",
       "    <tr style=\"text-align: left;\">\n",
       "      <th>epoch</th>\n",
       "      <th>train_loss</th>\n",
       "      <th>valid_loss</th>\n",
       "      <th>_rmse</th>\n",
       "      <th>time</th>\n",
       "    </tr>\n",
       "  </thead>\n",
       "  <tbody>\n",
       "    <tr>\n",
       "      <td>0</td>\n",
       "      <td>2.332228</td>\n",
       "      <td>3.114287</td>\n",
       "      <td>1.764735</td>\n",
       "      <td>04:40</td>\n",
       "    </tr>\n",
       "  </tbody>\n",
       "</table>"
      ],
      "text/plain": [
       "<IPython.core.display.HTML object>"
      ]
     },
     "metadata": {},
     "output_type": "display_data"
    },
    {
     "data": {
      "text/html": [
       "\n",
       "<style>\n",
       "    /* Turns off some styling */\n",
       "    progress {\n",
       "        /* gets rid of default border in Firefox and Opera. */\n",
       "        border: none;\n",
       "        /* Needs to be in here for Safari polyfill so background images work as expected. */\n",
       "        background-size: auto;\n",
       "    }\n",
       "    progress:not([value]), progress:not([value])::-webkit-progress-bar {\n",
       "        background: repeating-linear-gradient(45deg, #7e7e7e, #7e7e7e 10px, #5c5c5c 10px, #5c5c5c 20px);\n",
       "    }\n",
       "    .progress-bar-interrupted, .progress-bar-interrupted::-webkit-progress-bar {\n",
       "        background: #F44336;\n",
       "    }\n",
       "</style>\n"
      ],
      "text/plain": [
       "<IPython.core.display.HTML object>"
      ]
     },
     "metadata": {},
     "output_type": "display_data"
    },
    {
     "data": {
      "text/html": [
       "<table border=\"1\" class=\"dataframe\">\n",
       "  <thead>\n",
       "    <tr style=\"text-align: left;\">\n",
       "      <th>epoch</th>\n",
       "      <th>train_loss</th>\n",
       "      <th>valid_loss</th>\n",
       "      <th>_rmse</th>\n",
       "      <th>time</th>\n",
       "    </tr>\n",
       "  </thead>\n",
       "  <tbody>\n",
       "    <tr>\n",
       "      <td>0</td>\n",
       "      <td>1.611514</td>\n",
       "      <td>3.096058</td>\n",
       "      <td>1.759562</td>\n",
       "      <td>04:34</td>\n",
       "    </tr>\n",
       "    <tr>\n",
       "      <td>1</td>\n",
       "      <td>1.279621</td>\n",
       "      <td>3.169202</td>\n",
       "      <td>1.780225</td>\n",
       "      <td>04:43</td>\n",
       "    </tr>\n",
       "    <tr>\n",
       "      <td>2</td>\n",
       "      <td>0.826247</td>\n",
       "      <td>3.121332</td>\n",
       "      <td>1.766729</td>\n",
       "      <td>04:40</td>\n",
       "    </tr>\n",
       "    <tr>\n",
       "      <td>3</td>\n",
       "      <td>0.544979</td>\n",
       "      <td>3.158960</td>\n",
       "      <td>1.777346</td>\n",
       "      <td>04:29</td>\n",
       "    </tr>\n",
       "    <tr>\n",
       "      <td>4</td>\n",
       "      <td>0.448858</td>\n",
       "      <td>3.155487</td>\n",
       "      <td>1.776369</td>\n",
       "      <td>04:38</td>\n",
       "    </tr>\n",
       "  </tbody>\n",
       "</table>"
      ],
      "text/plain": [
       "<IPython.core.display.HTML object>"
      ]
     },
     "metadata": {},
     "output_type": "display_data"
    },
    {
     "name": "stdout",
     "output_type": "stream",
     "text": [
      "✅ Model saved: models/book_recommender_latest.pkl\n"
     ]
    },
    {
     "data": {
      "text/html": [
       "\n",
       "<style>\n",
       "    /* Turns off some styling */\n",
       "    progress {\n",
       "        /* gets rid of default border in Firefox and Opera. */\n",
       "        border: none;\n",
       "        /* Needs to be in here for Safari polyfill so background images work as expected. */\n",
       "        background-size: auto;\n",
       "    }\n",
       "    progress:not([value]), progress:not([value])::-webkit-progress-bar {\n",
       "        background: repeating-linear-gradient(45deg, #7e7e7e, #7e7e7e 10px, #5c5c5c 10px, #5c5c5c 20px);\n",
       "    }\n",
       "    .progress-bar-interrupted, .progress-bar-interrupted::-webkit-progress-bar {\n",
       "        background: #F44336;\n",
       "    }\n",
       "</style>\n"
      ],
      "text/plain": [
       "<IPython.core.display.HTML object>"
      ]
     },
     "metadata": {},
     "output_type": "display_data"
    },
    {
     "data": {
      "text/html": [],
      "text/plain": [
       "<IPython.core.display.HTML object>"
      ]
     },
     "metadata": {},
     "output_type": "display_data"
    },
    {
     "name": "stdout",
     "output_type": "stream",
     "text": [
      "Top 10 for user 98391:\n",
      "      user_id     book_id      pred\n",
      "34686   98391  043936213X  9.966747\n",
      "22779   98391  0840704593  9.965622\n",
      "27940   98391  0394823370  9.960220\n",
      "13454   98391  0451519841  9.953046\n",
      "2551    98391  0312288476  9.949700\n",
      "16355   98391  0345317580  9.948723\n",
      "10564   98391  0373510144  9.946473\n",
      "26067   98391  0345348109  9.945167\n",
      "711     98391  043429067X  9.944982\n",
      "29296   98391  0553213105  9.944687\n"
     ]
    },
    {
     "data": {
      "image/png": "[encoded data removed]",
      "text/plain": [
       "<Figure size 640x480 with 1 Axes>"
      ]
     },
     "metadata": {},
     "output_type": "display_data"
    }
   ],
   "source": [
    "import os, pandas as pd, numpy as np\n",
    "from fastai.tabular.all import *\n",
    "from fastai.collab import *\n",
    "from datetime import datetime\n",
    "\n",
    "def load_ratings(path='Ratings.csv', sample_size=None):\n",
    "    df = pd.read_csv(path, sep=',', encoding='latin-1', on_bad_lines='skip')\n",
    "    df = df.rename(columns={'User-ID': 'user_id', 'ISBN': 'book_id', 'Book-Rating': 'rating'})\n",
    "    df = df[pd.to_numeric(df['rating'], errors='coerce').notna()]\n",
    "    df = df[df['rating'].astype(int) > 0]\n",
    "    df['user_id'], df['book_id'] = df['user_id'].astype(str), df['book_id'].astype(str)\n",
    "    return df.sample(sample_size, random_state=42) if sample_size else df\n",
    "\n",
    "def train_model(df, path='models', n_factors=50, y_range=(0,10), bs=64, epochs=5):\n",
    "    os.makedirs(path, exist_ok=True)\n",
    "    dls = CollabDataLoaders.from_df(df, user_name='user_id', item_name='book_id', rating_name='rating', bs=bs)\n",
    "    learn = collab_learner(dls, n_factors=n_factors, y_range=y_range, use_nn=True, metrics=[rmse])\n",
    "    learn.fine_tune(epochs, learn.lr_find().valley)\n",
    "    name = f\"{path}/book_recommender_latest.pkl\"\n",
    "    learn.export(name)\n",
    "    print(f\"✅ Model saved: {name}\")\n",
    "    return learn\n",
    "\n",
    "def evaluate_model(learn, df, top_n=10):\n",
    "    uid = df['user_id'].sample(1).iloc[0]\n",
    "    rated = set(df[df['user_id'] == uid]['book_id'])\n",
    "    candidates = list(set(df['book_id']) - rated)\n",
    "    test_df = pd.DataFrame({'user_id': [uid]*len(candidates), 'book_id': candidates})\n",
    "    preds = learn.get_preds(dl=learn.dls.test_dl(test_df))[0].numpy()\n",
    "    test_df['pred'] = preds\n",
    "    print(f\"Top {top_n} for user {uid}:\")\n",
    "    print(test_df.sort_values('pred', ascending=False).head(top_n))\n",
    "\n",
    "if __name__ == '__main__':\n",
    "    ratings = load_ratings('Ratings.csv', sample_size=50000)\n",
    "    learner = train_model(ratings)\n",
    "    evaluate_model(learner, ratings)"
   ]
  },
  {
   "cell_type": "code",
   "execution_count": 19,
   "id": "e38b94f5-2c74-428b-8098-5f9b33181eff",
   "metadata": {},
   "outputs": [
    {
     "name": "stdout",
     "output_type": "stream",
     "text": [
      "✅ Cleaned books saved as Books_cleaned.csv without image columns.\n"
     ]
    }
   ],
   "source": [
    "import pandas as pd\n",
    "\n",
    "# Load original Books.csv\n",
    "books = pd.read_csv('Books.csv', sep=',', encoding='latin-1', on_bad_lines='skip', low_memory=False)\n",
    "\n",
    "# Rename columns explicitly (adjust if different)\n",
    "books.columns = ['book_id', 'title', 'author', 'year', 'publisher', 'img_s', 'img_m', 'img_l']\n",
    "\n",
    "# Remove image columns\n",
    "books = books.drop(columns=['img_s', 'img_m', 'img_l'])\n",
    "\n",
    "# Clean and convert year\n",
    "books['year'] = pd.to_numeric(books['year'], errors='coerce')\n",
    "books['year'] = books['year'].fillna(0).astype(int)\n",
    "books = books[(books['year'] >= 1000) & (books['year'] <= 2025)]\n",
    "\n",
    "# Save cleaned version\n",
    "books.to_csv('Books_cleaned.csv', index=False, encoding='utf-8')\n",
    "\n",
    "print(\"✅ Cleaned books saved as Books_cleaned.csv without image columns.\")\n"
   ]
  },
  {
   "cell_type": "code",
   "execution_count": 20,
   "id": "e61f1907-d551-4cc6-9cd5-03614b46eaae",
   "metadata": {},
   "outputs": [
    {
     "name": "stdout",
     "output_type": "stream",
     "text": [
      "✅ Ratings_cleaned.csv saved.\n"
     ]
    }
   ],
   "source": [
    "import pandas as pd\n",
    "\n",
    "# Load and clean ratings\n",
    "df = pd.read_csv('Ratings.csv', sep=',', encoding='latin-1', on_bad_lines='skip')\n",
    "df = df.rename(columns={'User-ID': 'user_id', 'ISBN': 'book_id', 'Book-Rating': 'rating'})\n",
    "\n",
    "# Drop invalid or missing ratings\n",
    "df = df[pd.to_numeric(df['rating'], errors='coerce').notna()]\n",
    "df['rating'] = df['rating'].astype(int)\n",
    "df = df[df['rating'] > 0]\n",
    "\n",
    "# Convert IDs to string\n",
    "df['user_id'], df['book_id'] = df['user_id'].astype(str), df['book_id'].astype(str)\n",
    "\n",
    "# Optional: remove users or books with too few ratings\n",
    "user_counts = df['user_id'].value_counts()\n",
    "book_counts = df['book_id'].value_counts()\n",
    "df = df[df['user_id'].isin(user_counts[user_counts >= 5].index)]\n",
    "df = df[df['book_id'].isin(book_counts[book_counts >= 5].index)]\n",
    "\n",
    "# Save cleaned ratings\n",
    "df.to_csv('Ratings_cleaned.csv', index=False, encoding='utf-8')\n",
    "\n",
    "print(\"✅ Ratings_cleaned.csv saved.\")\n"
   ]
  },
  {
   "cell_type": "code",
   "execution_count": null,
   "id": "09d8fd5d-8bec-4edc-b756-b562c56cf0b1",
   "metadata": {},
   "outputs": [],
   "source": []
  }
 ],
 "metadata": {
  "kernelspec": {
   "display_name": "Python 3 (ipykernel)",
   "language": "python",
   "name": "python3"
  },
  "language_info": {
   "codemirror_mode": {
    "name": "ipython",
    "version": 3
   },
   "file_extension": ".py",
   "mimetype": "text/x-python",
   "name": "python",
   "nbconvert_exporter": "python",
   "pygments_lexer": "ipython3",
   "version": "3.12.3"
  }
 },
 "nbformat": 4,
 "nbformat_minor": 5
}
